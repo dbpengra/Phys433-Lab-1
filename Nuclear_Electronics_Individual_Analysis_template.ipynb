{
 "cells": [
  {
   "cell_type": "markdown",
   "metadata": {},
   "source": [
    "# Nuclear Electronics Individual Analysis\n",
    "\n",
    "Use this template to carry out the analysis tasks for the Nuclear Electronics experiment.  You may need to consult the documentation for different Python packages.  Also recommended: the [Whirlwind Tour of Python](https://jakevdp.github.io/WhirlwindTourOfPython/) and the [Python Data Science Handbook](https://jakevdp.github.io/PythonDataScienceHandbook/) both by Jake VanderPlas."
   ]
  },
  {
   "cell_type": "markdown",
   "metadata": {},
   "source": [
    "## First, import some packages\n",
    "\n",
    "This is a good idea at the beginning of your notebook to include the packages that you will need.  We will use the four shown below here.  A brief description:\n",
    "* `numpy` is the foundational package for Python numerical work. It extends and speeds up array operations beyond standard Python, and it includes almost all math functions that you would need for example `sqrt()` (square root) or `cos()` (cosine).  These would be written in code as `np.sqrt()` or `np.cos()`.\n",
    "* `scipy` is a huge collection of scientific data analysis functions, routines, physicical constants, etc.  This is the second most used package for scientific work.  In this notebook, we will only make use of one physical constant (the speed of light).  Documentation is at [SciPy.org](https://docs.scipy.org/doc/scipy/reference/) with the constants subpackage at https://docs.scipy.org/doc/scipy/reference/constants.html.\n",
    "* `uncertainties` is a very useful small package that simplifies uncertainty propagation and printing out of quantities with uncertainty.  As part of this notebook, you will calculate an uncertainty the \"hard way\" by explicit calculation and by using the Uncertainties package. Documentation is at https://pythonhosted.org/uncertainties/\n",
    "* `matplotlib` is *the* standard plotting package for scientific Python.  We will use a subset called `pyplot` which is modeled after the plotting functions used in MATLAB. The last line below, `%matplotlib inline`, simply forces the plots to appear within the notebook.    "
   ]
  },
  {
   "cell_type": "code",
   "execution_count": null,
   "metadata": {},
   "outputs": [],
   "source": [
    "# Run this cell with Shift-Enter, and wait until the asterisk changes to a number, i.e., [*] becomes [1]\n",
    "import numpy as np\n",
    "import scipy.constants as const\n",
    "import uncertainties as unc\n",
    "import matplotlib.pyplot as plt\n",
    "%matplotlib inline"
   ]
  },
  {
   "cell_type": "markdown",
   "metadata": {},
   "source": [
    "## Cable propagation speed\n",
    "\n",
    "### Part 1: Just the value\n",
    "\n",
    "From the video on Signal Speed & Cable Impedance, extract the reflection time and cable length for the long cable used.  Assign them to the variables below. Then calculate the propagation speed.  Be careful with units!  What is the speed in m/s?  What is it in units of the speed of light $c$?  The speed of light is given by `const.c`.  Check this with `print(const.c)`."
   ]
  },
  {
   "cell_type": "code",
   "execution_count": null,
   "metadata": {
    "scrolled": true
   },
   "outputs": [],
   "source": [
    "cable_length = # meters\n",
    "delta_t = # seconds\n",
    "\n",
    "prop_speed = # You write this\n",
    "print('Propagation speed = {:.2f} m/s'.format(prop_speed))\n",
    "\n",
    "speed_in_c = # you write this\n",
    "print('Propagation speed = {:.4f} c'.format(speed_in_c))\n"
   ]
  },
  {
   "cell_type": "markdown",
   "metadata": {},
   "source": [
    "### Part 2: Calculating uncertainty, the hard(er) way\n",
    "\n",
    "Assume the uncertainty in the length is +/- the least digit and that the uncertainty in the reflection time is 2 percent.  Use the formula for the propagation speed to derive an error-propagation formula for the same, and caluclate the uncertainty in the speed $v$.  See [Notes on data analysis and experimental uncertainty](https://courses.washington.edu/phys431/uncertainty_notes.pdf) or [Quickie Statistics Summary](https://courses.washington.edu/phys431/331statistics05b.pdf) from the course website.  Put the uncertainty values into the `sigma_<variable>` forms below.\n",
    "\n",
    "Then make sure to print out the values above with their uncertainty, in both m/s and units of c."
   ]
  },
  {
   "cell_type": "code",
   "execution_count": null,
   "metadata": {},
   "outputs": [],
   "source": [
    "cable_length =  # meters\n",
    "sigma_cable_length = # meters\n",
    "delta_t = # seconds\n",
    "sigma_delta_t =  # seconds\n",
    "\n",
    "prop_speed = # You write this\n",
    "sigma_prop_speed = # You write this\n",
    "print('Propagation speed = {:.4g} +/- {} m/s'.format(prop_speed, sigma_prop_speed))\n",
    "\n",
    "speed_in_c = # You write this\n",
    "sigma_speed_in_c = # You write this\n",
    "print('Propagation speed = {:.3f} +/- {} c'.format(speed_in_c, sigma_speed_in_c))\n"
   ]
  },
  {
   "cell_type": "markdown",
   "metadata": {},
   "source": [
    "### Part 3: Calculating uncertainty the easy way\n",
    "\n",
    "Read the main page on the Python package [Uncertainties](https://pythonhosted.org/uncertainties/index.html) and use the `ufloat()` function to redefine `cable_length` and `delta_t` to be quantities with uncertainty.  Then simply calculate with them as you did in Part 1 to calculate the propagation speed, and print the result. Notice that you get the uncertainty automatically.  It should be the same as you calculated earlier.  (No? There's a mistake, find it.)\n",
    "\n",
    "Then print it with the format string `{:.2uP}`, as in `print('Speed = {:.2uP} m/s'.format(prop_speed))` to see how easy it is to get the sig figs correct."
   ]
  },
  {
   "cell_type": "code",
   "execution_count": null,
   "metadata": {},
   "outputs": [],
   "source": [
    "cable_length = # meters\n",
    "delta_t =  # seconds\n",
    "\n",
    "\n",
    "prop_speed = \n",
    "speed_in_c = \n",
    "# Print it out, according to the above\n",
    "\n"
   ]
  },
  {
   "cell_type": "markdown",
   "metadata": {},
   "source": [
    "## Cable Impedances\n",
    "\n",
    "Here, you will use Python's list type, and then a numpy array to calculate mean values for the \"50 ohm\" cable and \"Mystery Cable 1\".  (Mystery Cable 2 is optional).  Then you will use these data to calculate an uncertainty and the Uncertainties package to display it.\n",
    "\n",
    "In the cell below are two empty Python lists.  Fill them in with comma-separated values from the data set posted on the experiment page."
   ]
  },
  {
   "cell_type": "code",
   "execution_count": null,
   "metadata": {},
   "outputs": [],
   "source": [
    "fifty_ohm_data = []\n",
    "mystery_1_data = []"
   ]
  },
  {
   "cell_type": "markdown",
   "metadata": {},
   "source": [
    "### Make a histogram\n",
    "\n",
    "In the [Python Data Science Handbook](https://jakevdp.github.io/PythonDataScienceHandbook/), have a look at chapter 4 in matplotlib.  In particular, use the code under \"Histograms, Binnings and Density\" to plot a histogram of the two data sets.  (Note: you do not need to use the `plt.style.use('seaborn-white')` command, but try it if you like.  Also, it should be obvious that you are not using the `data = np.random.randn(1000)` command&mdash;this just makes a set of random numbers to plot.  You already have the data above; plot that!)\n",
    "\n",
    "Make sure to label the axes and give your plot(s) a title and a legend (if there is more than one data set).  These topics are treated in the section \"Simple Line Plots\"."
   ]
  },
  {
   "cell_type": "code",
   "execution_count": null,
   "metadata": {
    "scrolled": false
   },
   "outputs": [],
   "source": [
    "# You write all here"
   ]
  },
  {
   "cell_type": "markdown",
   "metadata": {},
   "source": [
    "### Calculate the mean and standard deviation of the data sets\n",
    "\n",
    "Use the numpy array functions mean() and std(), used here as `np.mean()`, `np.std()` to find the mean and standard deviations of the two data sets, and print these results.  Search for \"numpy.mean()\" and \"numpy.std()\" in the Numpy documentation under **Help** or in \"Aggregations: Min, Max, and Everything In Between\" in the Data Science Handbook."
   ]
  },
  {
   "cell_type": "code",
   "execution_count": null,
   "metadata": {},
   "outputs": [],
   "source": [
    "# You write all here"
   ]
  },
  {
   "cell_type": "markdown",
   "metadata": {},
   "source": [
    "### Convert the data sets to Numpy arrays and explore them\n",
    "\n",
    "The data sets as stored are simple Python lists.  You can use Numpy functions to calculate with them, but there is much more you can do with a Numpy array.  Here, convert the lists to Numpy arrays with the `np.array()` function.  For example, `my_np_arr = np.array(my_list)`.  Then type `dir(my_np_arr)` (using your array name) in the cell below to see the different methods.  Look for `'mean'` and `'std'`.  Then do the same with the original array, and notice the difference.\n",
    "\n",
    "What happens if you try to add 20 to your Numpy array (e.g., `20 + my_np_arr`) versus your original list (e.g. `20 + my_list`)?  Try to print both versions."
   ]
  },
  {
   "cell_type": "code",
   "execution_count": null,
   "metadata": {},
   "outputs": [],
   "source": [
    "# You write all here"
   ]
  },
  {
   "cell_type": "markdown",
   "metadata": {},
   "source": [
    "See what `print(help(np_50_data))` does (where `np_50_data` is the name of your Numpy array for the 50 ohm data).  Notice the information breaks into two subsets **attributes** and **methods**.  For example, `size` is an attribute that gives the number of elements in the array, but `mean()` is a method that operates on the array and gives the mean value of it."
   ]
  },
  {
   "cell_type": "code",
   "execution_count": null,
   "metadata": {},
   "outputs": [],
   "source": [
    "# Uncomment and execute\n",
    "# print(help(np_50_data))"
   ]
  },
  {
   "cell_type": "markdown",
   "metadata": {},
   "source": [
    "Explore the attributes and methods of your Numpy array, for example, `print('size = {}'.format(np_50_data.size))`.  Try a few others to see what they do, and whether they act as you would expect. "
   ]
  },
  {
   "cell_type": "code",
   "execution_count": null,
   "metadata": {},
   "outputs": [],
   "source": [
    "# Here are a couple.  Print at least three other attributes and methods\n",
    "# print('size = {}'.format(np_50_data.size))\n",
    "# print('mean = {}'.format(np_50_data.mean()))\n"
   ]
  },
  {
   "cell_type": "markdown",
   "metadata": {},
   "source": [
    "### Write a function to calculate the standard error of an array\n",
    "\n",
    "Have a look at the [Whirlwind Tour of Python](https://jakevdp.github.io/WhirlwindTourOfPython/) Chapter on [Defining Functions](https://jakevdp.github.io/WhirlwindTourOfPython/08-defining-functions.html) and write a function that will return the *standard error*, also called the *standard deviation of the mean*, of a Numpy array.  Use the template below.\n",
    "\n",
    "Look up what \"standard error\" is, if you do not know."
   ]
  },
  {
   "cell_type": "code",
   "execution_count": null,
   "metadata": {},
   "outputs": [],
   "source": [
    "def std_err(data):\n",
    "    '''Standard deviation (standard error) of the mean.  Requires ndarray'''\n",
    "    # The above is a help string.\n",
    "    npdata = np.asarray(data)  # This ensures a Numpy array exists.  The methods, etc. are now in npdata.\n",
    "    #\n",
    "    # Your code goes here and should define standard_error\n",
    "    #\n",
    "    return standard_error"
   ]
  },
  {
   "cell_type": "markdown",
   "metadata": {},
   "source": [
    "### Use the function to calculate the uncertainty for the 50 ohm data\n",
    "\n",
    "The \"standard error\" is the uncertainty in the mean of a set of data of the same type.  It describes the width of a distribution of mean values calculated from the original data set.  \n",
    "\n",
    "Use the function above to define a new quantity with uncertainty that gives the measured impedance of the \"50 ohm\" cable, with uncertainty.  Do the same for the \"Mystery 1\" cable.  Print out both results using correct significant figures and formatting."
   ]
  },
  {
   "cell_type": "code",
   "execution_count": null,
   "metadata": {},
   "outputs": [],
   "source": [
    "# You write all here\n"
   ]
  }
 ],
 "metadata": {
  "kernelspec": {
   "display_name": "Python 3",
   "language": "python",
   "name": "python3"
  },
  "language_info": {
   "codemirror_mode": {
    "name": "ipython",
    "version": 3
   },
   "file_extension": ".py",
   "mimetype": "text/x-python",
   "name": "python",
   "nbconvert_exporter": "python",
   "pygments_lexer": "ipython3",
   "version": "3.7.3"
  }
 },
 "nbformat": 4,
 "nbformat_minor": 2
}
